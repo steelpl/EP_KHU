{
  "nbformat": 4,
  "nbformat_minor": 0,
  "metadata": {
    "colab": {
      "provenance": [],
      "authorship_tag": "ABX9TyNzvZGpH+7miNkMbgp8TnkN",
      "include_colab_link": true
    },
    "kernelspec": {
      "name": "python3",
      "display_name": "Python 3"
    },
    "language_info": {
      "name": "python"
    }
  },
  "cells": [
    {
      "cell_type": "markdown",
      "metadata": {
        "id": "view-in-github",
        "colab_type": "text"
      },
      "source": [
        "<a href=\"https://colab.research.google.com/github/steelpl/EP_KHU/blob/main/Week5/EP_Wk5a.ipynb\" target=\"_parent\"><img src=\"https://colab.research.google.com/assets/colab-badge.svg\" alt=\"Open In Colab\"/></a>"
      ]
    },
    {
      "cell_type": "markdown",
      "source": [
        "# Handling files for input and output\n",
        "> Handling files for input and output is a common task in many programming languages, including Python.\n",
        "___"
      ],
      "metadata": {
        "id": "V3lcBGHeUIo2"
      }
    },
    {
      "cell_type": "markdown",
      "source": [
        "## 1. Opening a File for Reading or Writing"
      ],
      "metadata": {
        "id": "pIQ2ielarfCW"
      }
    },
    {
      "cell_type": "markdown",
      "source": [
        "* Before you can read from or write to a file in Python, you need to open the file. The ```open()```function is used to do this, and takes two arguments: the file path (a string), and the mode in which to open the file (also a string).\n",
        "\n",
        "* Here are the most common file modes in Python:\n",
        "\n",
        " * `'r'`: Open the file for *reading* (default).\n",
        " * `'w'`: Open the file for *writing, truncating the file first*\n",
        " * `'a'`: Open the file for *writing, appending to the end of the file if it exists*\n",
        " * ` 'x'`: Open the file for *exclusive creation, failing if the file already exists*\n",
        " * ` 'b'`: Open the file in binary mode.\n",
        " * ` 't'`: Open the file in *text mode (default)*\n",
        "\n",
        "* To open a file for reading, you can simply pass the file path as the first argument to ```open()```, like this:\n",
        "\n",
        "  >`file = open('path/to/file.txt', 'r')`\n",
        "  \n",
        "  This will open the file at the given path in read mode.\n",
        "\n",
        "* If you want to open a file for writing, you can pass `'w'` as the second argument to `open()`, like this:\n",
        "  \n",
        " >`file = open('path/to/file.txt', 'w')`\n",
        "\n",
        " This will open the file at the given path in write mode. If the file already exists, its contents will be truncated (i.e., deleted), so be careful!\n",
        "\n",
        "* Finally, if you want to append to an existing file, you can pass `'a'` as the second argument to open(), like this:\n",
        "\n",
        " >`file = open('path/to/file.txt', 'a')`\n"
      ],
      "metadata": {
        "id": "NygmMuX2UNry"
      }
    },
    {
      "cell_type": "markdown",
      "source": [
        "* Practice 1: Creating a directory and uploading a file"
      ],
      "metadata": {
        "id": "T8v0QcRHrxC7"
      }
    },
    {
      "cell_type": "code",
      "source": [
        "# Creating a sub-directory\n",
        "# Step 1: Mounting your Google Drive to Colab\n",
        "from google.colab import drive\n",
        "drive.mount('/content/gdrive')"
      ],
      "metadata": {
        "id": "gv5EvxJMt9TQ",
        "outputId": "b99cb84d-d85f-40c5-8473-8d81c07bc9ef",
        "colab": {
          "base_uri": "https://localhost:8080/"
        }
      },
      "execution_count": 1,
      "outputs": [
        {
          "output_type": "stream",
          "name": "stdout",
          "text": [
            "Mounted at /content/gdrive\n"
          ]
        }
      ]
    },
    {
      "cell_type": "code",
      "source": [
        "# Step 2: creating a subdirectory by using the os library.\n",
        "import os\n",
        "path = '/content/gdrive/MyDrive/temp_files'\n",
        "os.makedirs(path, exist_ok=True)\n",
        "# 'exist_ok=True': the directory is only created if it does not already exist."
      ],
      "metadata": {
        "id": "AoXCLP7luUzi"
      },
      "execution_count": 2,
      "outputs": []
    },
    {
      "cell_type": "code",
      "source": [
        "# Step 3: checking my working directory (WD)\n",
        "cwd = os.getcwd() # current working directory\n",
        "print(cwd)"
      ],
      "metadata": {
        "id": "SekIQTKRtCTH",
        "outputId": "f746ced1-b138-469f-e1fe-8ace7e88c7ec",
        "colab": {
          "base_uri": "https://localhost:8080/"
        }
      },
      "execution_count": 3,
      "outputs": [
        {
          "output_type": "stream",
          "name": "stdout",
          "text": [
            "/content\n"
          ]
        }
      ]
    },
    {
      "cell_type": "code",
      "source": [
        "# Step 4: changing my WD to new one\n",
        "os.chdir(path)\n",
        "cwd = os.getcwd()# Get the new WD\n",
        "print(cwd)"
      ],
      "metadata": {
        "id": "mBbzuLm6vQYY",
        "outputId": "7723fed8-e10d-47c0-853e-376fe7ea3c7b",
        "colab": {
          "base_uri": "https://localhost:8080/"
        }
      },
      "execution_count": 4,
      "outputs": [
        {
          "output_type": "stream",
          "name": "stdout",
          "text": [
            "/content/gdrive/MyDrive/temp_files\n"
          ]
        }
      ]
    },
    {
      "cell_type": "code",
      "source": [
        "# Step 5: uploading a file to WD\n",
        "from google.colab import files\n",
        "uploaded = files.upload()"
      ],
      "metadata": {
        "id": "f3qWK_GmwUMG",
        "outputId": "5ae66e78-ebfe-4fac-c0bc-12a62f50441a",
        "colab": {
          "base_uri": "https://localhost:8080/",
          "height": 73
        }
      },
      "execution_count": 5,
      "outputs": [
        {
          "output_type": "display_data",
          "data": {
            "text/plain": [
              "<IPython.core.display.HTML object>"
            ],
            "text/html": [
              "\n",
              "     <input type=\"file\" id=\"files-42402c2b-93ac-482f-86c6-ec8a437bf1d0\" name=\"files[]\" multiple disabled\n",
              "        style=\"border:none\" />\n",
              "     <output id=\"result-42402c2b-93ac-482f-86c6-ec8a437bf1d0\">\n",
              "      Upload widget is only available when the cell has been executed in the\n",
              "      current browser session. Please rerun this cell to enable.\n",
              "      </output>\n",
              "      <script>// Copyright 2017 Google LLC\n",
              "//\n",
              "// Licensed under the Apache License, Version 2.0 (the \"License\");\n",
              "// you may not use this file except in compliance with the License.\n",
              "// You may obtain a copy of the License at\n",
              "//\n",
              "//      http://www.apache.org/licenses/LICENSE-2.0\n",
              "//\n",
              "// Unless required by applicable law or agreed to in writing, software\n",
              "// distributed under the License is distributed on an \"AS IS\" BASIS,\n",
              "// WITHOUT WARRANTIES OR CONDITIONS OF ANY KIND, either express or implied.\n",
              "// See the License for the specific language governing permissions and\n",
              "// limitations under the License.\n",
              "\n",
              "/**\n",
              " * @fileoverview Helpers for google.colab Python module.\n",
              " */\n",
              "(function(scope) {\n",
              "function span(text, styleAttributes = {}) {\n",
              "  const element = document.createElement('span');\n",
              "  element.textContent = text;\n",
              "  for (const key of Object.keys(styleAttributes)) {\n",
              "    element.style[key] = styleAttributes[key];\n",
              "  }\n",
              "  return element;\n",
              "}\n",
              "\n",
              "// Max number of bytes which will be uploaded at a time.\n",
              "const MAX_PAYLOAD_SIZE = 100 * 1024;\n",
              "\n",
              "function _uploadFiles(inputId, outputId) {\n",
              "  const steps = uploadFilesStep(inputId, outputId);\n",
              "  const outputElement = document.getElementById(outputId);\n",
              "  // Cache steps on the outputElement to make it available for the next call\n",
              "  // to uploadFilesContinue from Python.\n",
              "  outputElement.steps = steps;\n",
              "\n",
              "  return _uploadFilesContinue(outputId);\n",
              "}\n",
              "\n",
              "// This is roughly an async generator (not supported in the browser yet),\n",
              "// where there are multiple asynchronous steps and the Python side is going\n",
              "// to poll for completion of each step.\n",
              "// This uses a Promise to block the python side on completion of each step,\n",
              "// then passes the result of the previous step as the input to the next step.\n",
              "function _uploadFilesContinue(outputId) {\n",
              "  const outputElement = document.getElementById(outputId);\n",
              "  const steps = outputElement.steps;\n",
              "\n",
              "  const next = steps.next(outputElement.lastPromiseValue);\n",
              "  return Promise.resolve(next.value.promise).then((value) => {\n",
              "    // Cache the last promise value to make it available to the next\n",
              "    // step of the generator.\n",
              "    outputElement.lastPromiseValue = value;\n",
              "    return next.value.response;\n",
              "  });\n",
              "}\n",
              "\n",
              "/**\n",
              " * Generator function which is called between each async step of the upload\n",
              " * process.\n",
              " * @param {string} inputId Element ID of the input file picker element.\n",
              " * @param {string} outputId Element ID of the output display.\n",
              " * @return {!Iterable<!Object>} Iterable of next steps.\n",
              " */\n",
              "function* uploadFilesStep(inputId, outputId) {\n",
              "  const inputElement = document.getElementById(inputId);\n",
              "  inputElement.disabled = false;\n",
              "\n",
              "  const outputElement = document.getElementById(outputId);\n",
              "  outputElement.innerHTML = '';\n",
              "\n",
              "  const pickedPromise = new Promise((resolve) => {\n",
              "    inputElement.addEventListener('change', (e) => {\n",
              "      resolve(e.target.files);\n",
              "    });\n",
              "  });\n",
              "\n",
              "  const cancel = document.createElement('button');\n",
              "  inputElement.parentElement.appendChild(cancel);\n",
              "  cancel.textContent = 'Cancel upload';\n",
              "  const cancelPromise = new Promise((resolve) => {\n",
              "    cancel.onclick = () => {\n",
              "      resolve(null);\n",
              "    };\n",
              "  });\n",
              "\n",
              "  // Wait for the user to pick the files.\n",
              "  const files = yield {\n",
              "    promise: Promise.race([pickedPromise, cancelPromise]),\n",
              "    response: {\n",
              "      action: 'starting',\n",
              "    }\n",
              "  };\n",
              "\n",
              "  cancel.remove();\n",
              "\n",
              "  // Disable the input element since further picks are not allowed.\n",
              "  inputElement.disabled = true;\n",
              "\n",
              "  if (!files) {\n",
              "    return {\n",
              "      response: {\n",
              "        action: 'complete',\n",
              "      }\n",
              "    };\n",
              "  }\n",
              "\n",
              "  for (const file of files) {\n",
              "    const li = document.createElement('li');\n",
              "    li.append(span(file.name, {fontWeight: 'bold'}));\n",
              "    li.append(span(\n",
              "        `(${file.type || 'n/a'}) - ${file.size} bytes, ` +\n",
              "        `last modified: ${\n",
              "            file.lastModifiedDate ? file.lastModifiedDate.toLocaleDateString() :\n",
              "                                    'n/a'} - `));\n",
              "    const percent = span('0% done');\n",
              "    li.appendChild(percent);\n",
              "\n",
              "    outputElement.appendChild(li);\n",
              "\n",
              "    const fileDataPromise = new Promise((resolve) => {\n",
              "      const reader = new FileReader();\n",
              "      reader.onload = (e) => {\n",
              "        resolve(e.target.result);\n",
              "      };\n",
              "      reader.readAsArrayBuffer(file);\n",
              "    });\n",
              "    // Wait for the data to be ready.\n",
              "    let fileData = yield {\n",
              "      promise: fileDataPromise,\n",
              "      response: {\n",
              "        action: 'continue',\n",
              "      }\n",
              "    };\n",
              "\n",
              "    // Use a chunked sending to avoid message size limits. See b/62115660.\n",
              "    let position = 0;\n",
              "    do {\n",
              "      const length = Math.min(fileData.byteLength - position, MAX_PAYLOAD_SIZE);\n",
              "      const chunk = new Uint8Array(fileData, position, length);\n",
              "      position += length;\n",
              "\n",
              "      const base64 = btoa(String.fromCharCode.apply(null, chunk));\n",
              "      yield {\n",
              "        response: {\n",
              "          action: 'append',\n",
              "          file: file.name,\n",
              "          data: base64,\n",
              "        },\n",
              "      };\n",
              "\n",
              "      let percentDone = fileData.byteLength === 0 ?\n",
              "          100 :\n",
              "          Math.round((position / fileData.byteLength) * 100);\n",
              "      percent.textContent = `${percentDone}% done`;\n",
              "\n",
              "    } while (position < fileData.byteLength);\n",
              "  }\n",
              "\n",
              "  // All done.\n",
              "  yield {\n",
              "    response: {\n",
              "      action: 'complete',\n",
              "    }\n",
              "  };\n",
              "}\n",
              "\n",
              "scope.google = scope.google || {};\n",
              "scope.google.colab = scope.google.colab || {};\n",
              "scope.google.colab._files = {\n",
              "  _uploadFiles,\n",
              "  _uploadFilesContinue,\n",
              "};\n",
              "})(self);\n",
              "</script> "
            ]
          },
          "metadata": {}
        },
        {
          "output_type": "stream",
          "name": "stdout",
          "text": [
            "Saving newfile.txt to newfile (1).txt\n"
          ]
        }
      ]
    },
    {
      "cell_type": "markdown",
      "source": [
        "* Practice 2: reading from a file\n",
        " * `read()`: Reads the entire contents of the file as a single string.\n",
        " * `readline()`: Reads a single line from the file.\n",
        " * `readlines()`: Reads all lines from the file into a list of strings."
      ],
      "metadata": {
        "id": "QdCgHPF4xkQq"
      }
    },
    {
      "cell_type": "code",
      "source": [
        "# Step 1: get the path\n",
        "cwd = os.getcwd()# Get the new WD\n",
        "filename = \"newfile.txt\"\n",
        "\n",
        "full_path = os.path.join(cwd, filename)\n",
        "print(full_path)"
      ],
      "metadata": {
        "id": "MoEA4tBGzUq9",
        "outputId": "a37eb8ed-2ded-4f0d-fe74-4a2fc52d0c33",
        "colab": {
          "base_uri": "https://localhost:8080/"
        }
      },
      "execution_count": 6,
      "outputs": [
        {
          "output_type": "stream",
          "name": "stdout",
          "text": [
            "/content/gdrive/MyDrive/temp_files/newfile.txt\n"
          ]
        }
      ]
    },
    {
      "cell_type": "code",
      "source": [
        "# Step 2: reading the 1st line using \"readline\"\n",
        "f = open(full_path, 'r')\n",
        "line = f.readline()\n",
        "print(line)\n",
        "f.close()"
      ],
      "metadata": {
        "id": "tqo_melT06f4",
        "outputId": "a1852b65-739c-4d4e-ef2f-c39de32e6751",
        "colab": {
          "base_uri": "https://localhost:8080/"
        }
      },
      "execution_count": 7,
      "outputs": [
        {
          "output_type": "stream",
          "name": "stdout",
          "text": [
            "Line 1\n",
            "\n"
          ]
        }
      ]
    },
    {
      "cell_type": "code",
      "source": [
        "# Step 3: reading all lines using \"readline\"\n",
        "f = open(full_path, 'r')\n",
        "while True:\n",
        "  line = f.readline()\n",
        "  if not line: break\n",
        "  print(line)\n",
        "f.close()"
      ],
      "metadata": {
        "id": "kyGkDRc51XpC",
        "outputId": "7e88bee9-3285-4aec-8162-9225eb72a53a",
        "colab": {
          "base_uri": "https://localhost:8080/"
        }
      },
      "execution_count": 8,
      "outputs": [
        {
          "output_type": "stream",
          "name": "stdout",
          "text": [
            "Line 1\n",
            "\n",
            "Line 2\n",
            "\n",
            "Line 3\n",
            "\n",
            "Line 4\n",
            "\n",
            "Line 5\n",
            "\n",
            "Line 6\n",
            "\n",
            "Line 7\n",
            "\n",
            "Line 8\n",
            "\n",
            "Line 9\n",
            "\n",
            "Line 10\n",
            "\n"
          ]
        }
      ]
    },
    {
      "cell_type": "code",
      "source": [
        "# Step 4: reading all lines using \"readlines\"\n",
        "f = open(full_path, 'r')\n",
        "lines = f.readlines()\n",
        "print(type(lines))\n",
        "print(lines)\n",
        "for line in lines:\n",
        "  print(line)\n",
        "f.close()"
      ],
      "metadata": {
        "id": "BclaWhoK10zh",
        "outputId": "6acaad9a-e79c-45dd-e73b-e604459d6b8f",
        "colab": {
          "base_uri": "https://localhost:8080/"
        }
      },
      "execution_count": 9,
      "outputs": [
        {
          "output_type": "stream",
          "name": "stdout",
          "text": [
            "<class 'list'>\n",
            "['Line 1\\n', 'Line 2\\n', 'Line 3\\n', 'Line 4\\n', 'Line 5\\n', 'Line 6\\n', 'Line 7\\n', 'Line 8\\n', 'Line 9\\n', 'Line 10\\n']\n",
            "Line 1\n",
            "\n",
            "Line 2\n",
            "\n",
            "Line 3\n",
            "\n",
            "Line 4\n",
            "\n",
            "Line 5\n",
            "\n",
            "Line 6\n",
            "\n",
            "Line 7\n",
            "\n",
            "Line 8\n",
            "\n",
            "Line 9\n",
            "\n",
            "Line 10\n",
            "\n"
          ]
        }
      ]
    },
    {
      "cell_type": "code",
      "source": [
        "# Step 5: reading all data using \"read\"\n",
        "f = open(full_path, 'r')\n",
        "data = f.read()\n",
        "print(type(data))\n",
        "print(data)\n",
        "f.close()"
      ],
      "metadata": {
        "id": "C_Z9GF2H2y9n",
        "outputId": "7845feb3-6dfb-40f2-9da0-5e9c94bc1de8",
        "colab": {
          "base_uri": "https://localhost:8080/"
        }
      },
      "execution_count": 10,
      "outputs": [
        {
          "output_type": "stream",
          "name": "stdout",
          "text": [
            "<class 'str'>\n",
            "Line 1\n",
            "Line 2\n",
            "Line 3\n",
            "Line 4\n",
            "Line 5\n",
            "Line 6\n",
            "Line 7\n",
            "Line 8\n",
            "Line 9\n",
            "Line 10\n",
            "\n"
          ]
        }
      ]
    },
    {
      "cell_type": "markdown",
      "source": [
        "* Practice 3: writing a file"
      ],
      "metadata": {
        "id": "EgGsofNT3TPg"
      }
    },
    {
      "cell_type": "code",
      "source": [
        "# Step 1: writing a file\n",
        "# open file for writing\n",
        "f = open(\"newfile2.txt\", \"w\")\n",
        "\n",
        "# write multiple lines of text\n",
        "for i in range(1,11):\n",
        "  f.write('New Line {}\\n'.format(i))\n",
        "\n",
        "# close file\n",
        "f.close()"
      ],
      "metadata": {
        "id": "yrIOAu0r4MH1"
      },
      "execution_count": 11,
      "outputs": []
    },
    {
      "cell_type": "code",
      "source": [
        "# Step 2: get the path\n",
        "cwd = os.getcwd()# Get the new WD\n",
        "filename = \"newfile2.txt\"\n",
        "\n",
        "full_path = os.path.join(cwd, filename)\n",
        "print(full_path)"
      ],
      "metadata": {
        "id": "Li4XX4iEX8CM",
        "outputId": "69ca0cee-2a3d-425d-8727-4f0416e3599d",
        "colab": {
          "base_uri": "https://localhost:8080/"
        }
      },
      "execution_count": 12,
      "outputs": [
        {
          "output_type": "stream",
          "name": "stdout",
          "text": [
            "/content/gdrive/MyDrive/temp_files/newfile2.txt\n"
          ]
        }
      ]
    },
    {
      "cell_type": "code",
      "source": [
        "# Step 3: reading all lines using \"readlines\"\n",
        "f = open(full_path, 'r')\n",
        "lines = f.readlines()\n",
        "print(type(lines))\n",
        "print(lines)\n",
        "for line in lines:\n",
        "  print(line)\n",
        "f.close()"
      ],
      "metadata": {
        "id": "ZcJS0E2BYTP1",
        "outputId": "0fd723bd-b2a1-4bff-8e7f-e07d811c2f6f",
        "colab": {
          "base_uri": "https://localhost:8080/"
        }
      },
      "execution_count": 13,
      "outputs": [
        {
          "output_type": "stream",
          "name": "stdout",
          "text": [
            "<class 'list'>\n",
            "['New Line 1\\n', 'New Line 2\\n', 'New Line 3\\n', 'New Line 4\\n', 'New Line 5\\n', 'New Line 6\\n', 'New Line 7\\n', 'New Line 8\\n', 'New Line 9\\n', 'New Line 10\\n']\n",
            "New Line 1\n",
            "\n",
            "New Line 2\n",
            "\n",
            "New Line 3\n",
            "\n",
            "New Line 4\n",
            "\n",
            "New Line 5\n",
            "\n",
            "New Line 6\n",
            "\n",
            "New Line 7\n",
            "\n",
            "New Line 8\n",
            "\n",
            "New Line 9\n",
            "\n",
            "New Line 10\n",
            "\n"
          ]
        }
      ]
    },
    {
      "cell_type": "code",
      "source": [
        "# Step 4: appending more lines to the existing file\n",
        "f = open(full_path, 'a')\n",
        "\n",
        "# add multiple lines of text\n",
        "for i in range(11,21):\n",
        "  f.write('New Line {}\\n'.format(i))\n",
        "\n",
        "# close file\n",
        "f.close()"
      ],
      "metadata": {
        "id": "lYzQwbWEYX2d"
      },
      "execution_count": 14,
      "outputs": []
    },
    {
      "cell_type": "code",
      "source": [
        "# Step 5: reading all lines using \"readlines\"\n",
        "f = open(full_path, 'r')\n",
        "lines = f.readlines()\n",
        "print(type(lines))\n",
        "print(lines)\n",
        "for line in lines:\n",
        "  print(line)\n",
        "f.close()"
      ],
      "metadata": {
        "id": "HDu_gVyTZPOv",
        "outputId": "78cb02f6-2006-4eb9-b00b-a847e1ad0fe6",
        "colab": {
          "base_uri": "https://localhost:8080/"
        }
      },
      "execution_count": 15,
      "outputs": [
        {
          "output_type": "stream",
          "name": "stdout",
          "text": [
            "<class 'list'>\n",
            "['New Line 1\\n', 'New Line 2\\n', 'New Line 3\\n', 'New Line 4\\n', 'New Line 5\\n', 'New Line 6\\n', 'New Line 7\\n', 'New Line 8\\n', 'New Line 9\\n', 'New Line 10\\n', 'New Line 11\\n', 'New Line 12\\n', 'New Line 13\\n', 'New Line 14\\n', 'New Line 15\\n', 'New Line 16\\n', 'New Line 17\\n', 'New Line 18\\n', 'New Line 19\\n', 'New Line 20\\n']\n",
            "New Line 1\n",
            "\n",
            "New Line 2\n",
            "\n",
            "New Line 3\n",
            "\n",
            "New Line 4\n",
            "\n",
            "New Line 5\n",
            "\n",
            "New Line 6\n",
            "\n",
            "New Line 7\n",
            "\n",
            "New Line 8\n",
            "\n",
            "New Line 9\n",
            "\n",
            "New Line 10\n",
            "\n",
            "New Line 11\n",
            "\n",
            "New Line 12\n",
            "\n",
            "New Line 13\n",
            "\n",
            "New Line 14\n",
            "\n",
            "New Line 15\n",
            "\n",
            "New Line 16\n",
            "\n",
            "New Line 17\n",
            "\n",
            "New Line 18\n",
            "\n",
            "New Line 19\n",
            "\n",
            "New Line 20\n",
            "\n"
          ]
        }
      ]
    },
    {
      "cell_type": "markdown",
      "source": [
        "* Practice 4: opening and closing a file using `'with'`\n",
        "\n",
        " * the `with` statement is a useful tool to ensure that the file is properly opened and closed. \n",
        " * When using `with`, the file is opened in a block of code, and then automatically closed when the block of code is exited.\n",
        " * This helps to prevent errors that can occur when a file is not properly closed."
      ],
      "metadata": {
        "id": "vFre5sVCZlSE"
      }
    },
    {
      "cell_type": "code",
      "source": [
        "# To read the contents of a file:\n",
        "with open('newfile.txt', 'r') as f:\n",
        "    data = f.read()\n",
        "\n",
        "print(type(data))\n",
        "print(data)"
      ],
      "metadata": {
        "id": "IFSrwQFoavpW",
        "outputId": "81c9b802-bacf-429f-a15b-1b0da0f1b305",
        "colab": {
          "base_uri": "https://localhost:8080/"
        }
      },
      "execution_count": 16,
      "outputs": [
        {
          "output_type": "stream",
          "name": "stdout",
          "text": [
            "<class 'str'>\n",
            "Line 1\n",
            "Line 2\n",
            "Line 3\n",
            "Line 4\n",
            "Line 5\n",
            "Line 6\n",
            "Line 7\n",
            "Line 8\n",
            "Line 9\n",
            "Line 10\n",
            "\n"
          ]
        }
      ]
    },
    {
      "cell_type": "code",
      "source": [
        "# To write to a file:\n",
        "with open('newfile3.txt', 'w') as f:\n",
        "    f.write('Hello, World!\\n')\n",
        "\n",
        "with open('newfile3.txt', 'r') as f:\n",
        "    data = f.read()\n",
        "\n",
        "print(type(data))\n",
        "print(data)"
      ],
      "metadata": {
        "id": "rwTV9nR7bHUt",
        "outputId": "4e7c9f48-2d8a-4f71-d4d1-76827b368b37",
        "colab": {
          "base_uri": "https://localhost:8080/"
        }
      },
      "execution_count": 17,
      "outputs": [
        {
          "output_type": "stream",
          "name": "stdout",
          "text": [
            "<class 'str'>\n",
            "Hello, World!\n",
            "\n"
          ]
        }
      ]
    },
    {
      "cell_type": "code",
      "source": [
        "# To append to a file:\n",
        "with open('newfile3.txt', 'a') as f:    \n",
        "    f.write('Hello, Students!\\n')\n",
        "\n",
        "with open('newfile3.txt', 'r') as f:\n",
        "    data = f.read()\n",
        "\n",
        "print(type(data))\n",
        "print(data)"
      ],
      "metadata": {
        "id": "Xm_PwXLpbYVL",
        "outputId": "d9ea71f1-3f58-4650-abf8-07e32eb5528b",
        "colab": {
          "base_uri": "https://localhost:8080/"
        }
      },
      "execution_count": 18,
      "outputs": [
        {
          "output_type": "stream",
          "name": "stdout",
          "text": [
            "<class 'str'>\n",
            "Hello, World!\n",
            "Hello, Students!\n",
            "\n"
          ]
        }
      ]
    },
    {
      "cell_type": "code",
      "source": [
        "# Removing a file from WD\n",
        "os.remove('newfile3.txt')"
      ],
      "metadata": {
        "id": "kAGEZn3xcBB8"
      },
      "execution_count": 19,
      "outputs": []
    }
  ]
}