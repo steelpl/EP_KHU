{
  "nbformat": 4,
  "nbformat_minor": 0,
  "metadata": {
    "colab": {
      "provenance": [],
      "authorship_tag": "ABX9TyNzvZGpH+7miNkMbgp8TnkN",
      "include_colab_link": true
    },
    "kernelspec": {
      "name": "python3",
      "display_name": "Python 3"
    },
    "language_info": {
      "name": "python"
    }
  },
  "cells": [
    {
      "cell_type": "markdown",
      "metadata": {
        "id": "view-in-github",
        "colab_type": "text"
      },
      "source": [
        "<a href=\"https://colab.research.google.com/github/steelpl/EP_KHU/blob/main/Week5%5CEP_Wk5a.ipynb\" target=\"_parent\"><img src=\"https://colab.research.google.com/assets/colab-badge.svg\" alt=\"Open In Colab\"/></a>"
      ]
    },
    {
      "cell_type": "markdown",
      "source": [
        "# Handling files for input and output\n",
        "> Handling files for input and output is a common task in many programming languages, including Python.\n",
        "___"
      ],
      "metadata": {
        "id": "V3lcBGHeUIo2"
      }
    },
    {
      "cell_type": "markdown",
      "source": [
        "## 1. Opening a File for Reading or Writing"
      ],
      "metadata": {
        "id": "pIQ2ielarfCW"
      }
    },
    {
      "cell_type": "markdown",
      "source": [
        "* Before you can read from or write to a file in Python, you need to open the file. The ```open()```function is used to do this, and takes two arguments: the file path (a string), and the mode in which to open the file (also a string).\n",
        "\n",
        "* Here are the most common file modes in Python:\n",
        "\n",
        " * `'r'`: Open the file for *reading* (default).\n",
        " * `'w'`: Open the file for *writing, truncating the file first*\n",
        " * `'a'`: Open the file for *writing, appending to the end of the file if it exists*\n",
        " * ` 'x'`: Open the file for *exclusive creation, failing if the file already exists*\n",
        " * ` 'b'`: Open the file in binary mode.\n",
        " * ` 't'`: Open the file in *text mode (default)*\n",
        "\n",
        "* To open a file for reading, you can simply pass the file path as the first argument to ```open()```, like this:\n",
        "\n",
        "  >`file = open('path/to/file.txt', 'r')`\n",
        "  \n",
        "  This will open the file at the given path in read mode.\n",
        "\n",
        "* If you want to open a file for writing, you can pass `'w'` as the second argument to `open()`, like this:\n",
        "  \n",
        " >`file = open('path/to/file.txt', 'w')`\n",
        "\n",
        " This will open the file at the given path in write mode. If the file already exists, its contents will be truncated (i.e., deleted), so be careful!\n",
        "\n",
        "* Finally, if you want to append to an existing file, you can pass `'a'` as the second argument to open(), like this:\n",
        "\n",
        " >`file = open('path/to/file.txt', 'a')`\n"
      ],
      "metadata": {
        "id": "NygmMuX2UNry"
      }
    },
    {
      "cell_type": "markdown",
      "source": [
        "* Practice 1: Creating a directory and uploading a file"
      ],
      "metadata": {
        "id": "T8v0QcRHrxC7"
      }
    },
    {
      "cell_type": "code",
      "source": [
        "# Creating a sub-directory\n",
        "# Step 1: Mounting your Google Drive to Colab\n",
        "from google.colab import drive\n",
        "drive.mount('/content/gdrive')"
      ],
      "metadata": {
        "id": "gv5EvxJMt9TQ"
      },
      "execution_count": null,
      "outputs": []
    },
    {
      "cell_type": "code",
      "source": [
        "# Step 2: creating a subdirectory by using the os library.\n",
        "import os\n",
        "path = '/content/gdrive/MyDrive/temp_files'\n",
        "os.makedirs(path, exist_ok=True)\n",
        "# 'exist_ok=True': the directory is only created if it does not already exist."
      ],
      "metadata": {
        "id": "AoXCLP7luUzi"
      },
      "execution_count": null,
      "outputs": []
    },
    {
      "cell_type": "code",
      "source": [
        "# Step 3: checking my working directory (WD)\n",
        "cwd = os.getcwd() # current working directory\n",
        "print(cwd)"
      ],
      "metadata": {
        "id": "SekIQTKRtCTH"
      },
      "execution_count": null,
      "outputs": []
    },
    {
      "cell_type": "code",
      "source": [
        "# Step 4: changing my WD to new one\n",
        "os.chdir(path)\n",
        "cwd = os.getcwd()# Get the new WD\n",
        "print(cwd)"
      ],
      "metadata": {
        "id": "mBbzuLm6vQYY"
      },
      "execution_count": null,
      "outputs": []
    },
    {
      "cell_type": "code",
      "source": [
        "# Step 5: uploading a file to WD\n",
        "from google.colab import files\n",
        "uploaded = files.upload()"
      ],
      "metadata": {
        "id": "f3qWK_GmwUMG"
      },
      "execution_count": null,
      "outputs": []
    },
    {
      "cell_type": "markdown",
      "source": [
        "* Practice 2: reading from a file\n",
        " * `read()`: Reads the entire contents of the file as a single string.\n",
        " * `readline()`: Reads a single line from the file.\n",
        " * `readlines()`: Reads all lines from the file into a list of strings."
      ],
      "metadata": {
        "id": "QdCgHPF4xkQq"
      }
    },
    {
      "cell_type": "code",
      "source": [
        "# Step 1: get the path\n",
        "cwd = os.getcwd()# Get the new WD\n",
        "filename = \"newfile.txt\"\n",
        "\n",
        "full_path = os.path.join(cwd, filename)\n",
        "print(full_path)"
      ],
      "metadata": {
        "id": "MoEA4tBGzUq9"
      },
      "execution_count": null,
      "outputs": []
    },
    {
      "cell_type": "code",
      "source": [
        "# Step 2: reading the 1st line using \"readline\"\n",
        "f = open(full_path, 'r')\n",
        "line = f.readline()\n",
        "print(line)\n",
        "f.close()"
      ],
      "metadata": {
        "id": "tqo_melT06f4"
      },
      "execution_count": null,
      "outputs": []
    },
    {
      "cell_type": "code",
      "source": [
        "# Step 3: reading all lines using \"readline\"\n",
        "f = open(full_path, 'r')\n",
        "while True:\n",
        "  line = f.readline()\n",
        "  if not line: break\n",
        "  print(line)\n",
        "f.close()"
      ],
      "metadata": {
        "id": "kyGkDRc51XpC"
      },
      "execution_count": null,
      "outputs": []
    },
    {
      "cell_type": "code",
      "source": [
        "# Step 4: reading all lines using \"readlines\"\n",
        "f = open(full_path, 'r')\n",
        "lines = f.readlines()\n",
        "print(type(lines))\n",
        "print(lines)\n",
        "for line in lines:\n",
        "  print(line)\n",
        "f.close()"
      ],
      "metadata": {
        "id": "BclaWhoK10zh"
      },
      "execution_count": null,
      "outputs": []
    },
    {
      "cell_type": "code",
      "source": [
        "# Step 5: reading all data using \"read\"\n",
        "f = open(full_path, 'r')\n",
        "data = f.read()\n",
        "print(type(data))\n",
        "print(data)\n",
        "f.close()"
      ],
      "metadata": {
        "id": "C_Z9GF2H2y9n"
      },
      "execution_count": null,
      "outputs": []
    },
    {
      "cell_type": "markdown",
      "source": [
        "* Practice 3: writing a file"
      ],
      "metadata": {
        "id": "EgGsofNT3TPg"
      }
    },
    {
      "cell_type": "code",
      "source": [
        "# Step 1: writing a file\n",
        "# open file for writing\n",
        "f = open(\"newfile2.txt\", \"w\")\n",
        "\n",
        "# write multiple lines of text\n",
        "for i in range(1,11):\n",
        "  f.write('New Line {}\\n'.format(i))\n",
        "\n",
        "# close file\n",
        "f.close()"
      ],
      "metadata": {
        "id": "yrIOAu0r4MH1"
      },
      "execution_count": null,
      "outputs": []
    },
    {
      "cell_type": "code",
      "source": [
        "# Step 2: get the path\n",
        "cwd = os.getcwd()# Get the new WD\n",
        "filename = \"newfile2.txt\"\n",
        "\n",
        "full_path = os.path.join(cwd, filename)\n",
        "print(full_path)"
      ],
      "metadata": {
        "id": "Li4XX4iEX8CM"
      },
      "execution_count": null,
      "outputs": []
    },
    {
      "cell_type": "code",
      "source": [
        "# Step 3: reading all lines using \"readlines\"\n",
        "f = open(full_path, 'r')\n",
        "lines = f.readlines()\n",
        "print(type(lines))\n",
        "print(lines)\n",
        "for line in lines:\n",
        "  print(line)\n",
        "f.close()"
      ],
      "metadata": {
        "id": "ZcJS0E2BYTP1"
      },
      "execution_count": null,
      "outputs": []
    },
    {
      "cell_type": "code",
      "source": [
        "# Step 4: appending more lines to the existing file\n",
        "f = open(full_path, 'a')\n",
        "\n",
        "# add multiple lines of text\n",
        "for i in range(11,21):\n",
        "  f.write('New Line {}\\n'.format(i))\n",
        "\n",
        "# close file\n",
        "f.close()"
      ],
      "metadata": {
        "id": "lYzQwbWEYX2d"
      },
      "execution_count": null,
      "outputs": []
    },
    {
      "cell_type": "code",
      "source": [
        "# Step 5: reading all lines using \"readlines\"\n",
        "f = open(full_path, 'r')\n",
        "lines = f.readlines()\n",
        "print(type(lines))\n",
        "print(lines)\n",
        "for line in lines:\n",
        "  print(line)\n",
        "f.close()"
      ],
      "metadata": {
        "id": "HDu_gVyTZPOv"
      },
      "execution_count": null,
      "outputs": []
    },
    {
      "cell_type": "markdown",
      "source": [
        "* Practice 4: opening and closing a file using `'with'`\n",
        "\n",
        " * the `with` statement is a useful tool to ensure that the file is properly opened and closed. \n",
        " * When using `with`, the file is opened in a block of code, and then automatically closed when the block of code is exited.\n",
        " * This helps to prevent errors that can occur when a file is not properly closed."
      ],
      "metadata": {
        "id": "vFre5sVCZlSE"
      }
    },
    {
      "cell_type": "code",
      "source": [
        "# To read the contents of a file:\n",
        "with open('newfile.txt', 'r') as f:\n",
        "    data = f.read()\n",
        "\n",
        "print(type(data))\n",
        "print(data)"
      ],
      "metadata": {
        "id": "IFSrwQFoavpW"
      },
      "execution_count": null,
      "outputs": []
    },
    {
      "cell_type": "code",
      "source": [
        "# To write to a file:\n",
        "with open('newfile3.txt', 'w') as f:\n",
        "    f.write('Hello, World!\\n')\n",
        "\n",
        "with open('newfile3.txt', 'r') as f:\n",
        "    data = f.read()\n",
        "\n",
        "print(type(data))\n",
        "print(data)"
      ],
      "metadata": {
        "id": "rwTV9nR7bHUt"
      },
      "execution_count": null,
      "outputs": []
    },
    {
      "cell_type": "code",
      "source": [
        "# To append to a file:\n",
        "with open('newfile3.txt', 'a') as f:    \n",
        "    f.write('Hello, Students!\\n')\n",
        "\n",
        "with open('newfile3.txt', 'r') as f:\n",
        "    data = f.read()\n",
        "\n",
        "print(type(data))\n",
        "print(data)"
      ],
      "metadata": {
        "id": "Xm_PwXLpbYVL"
      },
      "execution_count": null,
      "outputs": []
    },
    {
      "cell_type": "code",
      "source": [
        "# Removing a file from WD\n",
        "os.remove('newfile3.txt')"
      ],
      "metadata": {
        "id": "kAGEZn3xcBB8"
      },
      "execution_count": null,
      "outputs": []
    }
  ]
}