{
 "cells": [
  {
   "cell_type": "markdown",
   "metadata": {
    "colab_type": "text",
    "id": "view-in-github"
   },
   "source": [
    "<a href=\"https://colab.research.google.com/github/steelpl/EP_KHU/blob/main/Week1/EL_CEatKHU_W1.ipynb\" target=\"_parent\"><img src=\"https://colab.research.google.com/assets/colab-badge.svg\" alt=\"Open In Colab\"/></a>"
   ]
  },
  {
   "cell_type": "markdown",
   "metadata": {
    "id": "fUrvNHCJepR1"
   },
   "source": [
    "# This is a first section and also a text cell"
   ]
  },
  {
   "cell_type": "markdown",
   "metadata": {
    "id": "ZwFraRBPjDRj"
   },
   "source": [
    "\n",
    "# I added this text cell"
   ]
  },
  {
   "cell_type": "code",
   "execution_count": 1,
   "metadata": {
    "colab": {
     "base_uri": "https://localhost:8080/"
    },
    "id": "6INdID71WOgr",
    "outputId": "e4a83f58-9b43-4d61-a3c5-634867cfb030"
   },
   "outputs": [
    {
     "name": "stdout",
     "output_type": "stream",
     "text": [
      "Hello World\n"
     ]
    }
   ],
   "source": [
    "# This is a code cell\n",
    "# Same as the normal Python coding method\n",
    "print(\"Hello World\")\n",
    "\n",
    "# Ctrl + Enter to execute this cell"
   ]
  },
  {
   "cell_type": "code",
   "execution_count": 2,
   "metadata": {
    "colab": {
     "base_uri": "https://localhost:8080/"
    },
    "id": "offFuRvGb_wM",
    "outputId": "b2463bea-2a4a-4374-f6e6-5bb97fe85383"
   },
   "outputs": [
    {
     "name": "stdout",
     "output_type": "stream",
     "text": [
      "3\n"
     ]
    }
   ],
   "source": [
    "# Ctrl + M B to create a new code cell\n",
    "\n",
    "# Each cell represents a unit to be executed at one time.\n",
    "# After execution, the memory is retained and affects the execution of other cells.\n",
    "  # Initialization on runtime restart\n",
    "# Runtime in the top menu\n",
    "  # Abort Running Cell\n",
    "  # Runtime Restart\n",
    "a = 1\n",
    "b = 2\n",
    "print(a+b)"
   ]
  },
  {
   "cell_type": "code",
   "execution_count": 4,
   "metadata": {
    "colab": {
     "base_uri": "https://localhost:8080/"
    },
    "id": "wnXpcfEaXg1j",
    "outputId": "4b04d088-574b-4adb-9a1d-8d76bf363cfe"
   },
   "outputs": [
    {
     "name": "stdout",
     "output_type": "stream",
     "text": [
      "Requirement already satisfied: GPyTorch in c:\\users\\khu\\anaconda3\\envs\\ep1\\lib\\site-packages (1.9.1)\n",
      "Requirement already satisfied: scikit-learn in c:\\users\\khu\\anaconda3\\envs\\ep1\\lib\\site-packages (from GPyTorch) (1.2.0)\n",
      "Requirement already satisfied: linear-operator>=0.2.0 in c:\\users\\khu\\anaconda3\\envs\\ep1\\lib\\site-packages (from GPyTorch) (0.3.0)\n",
      "Requirement already satisfied: torch>=1.11 in c:\\users\\khu\\anaconda3\\envs\\ep1\\lib\\site-packages (from linear-operator>=0.2.0->GPyTorch) (1.13.1)\n",
      "Requirement already satisfied: scipy in c:\\users\\khu\\anaconda3\\envs\\ep1\\lib\\site-packages (from linear-operator>=0.2.0->GPyTorch) (1.9.3)\n",
      "Requirement already satisfied: joblib>=1.1.1 in c:\\users\\khu\\anaconda3\\envs\\ep1\\lib\\site-packages (from scikit-learn->GPyTorch) (1.1.1)\n",
      "Requirement already satisfied: numpy>=1.17.3 in c:\\users\\khu\\anaconda3\\envs\\ep1\\lib\\site-packages (from scikit-learn->GPyTorch) (1.23.5)\n",
      "Requirement already satisfied: threadpoolctl>=2.0.0 in c:\\users\\khu\\anaconda3\\envs\\ep1\\lib\\site-packages (from scikit-learn->GPyTorch) (2.2.0)\n",
      "Requirement already satisfied: typing-extensions in c:\\users\\khu\\anaconda3\\envs\\ep1\\lib\\site-packages (from torch>=1.11->linear-operator>=0.2.0->GPyTorch) (4.4.0)\n"
     ]
    }
   ],
   "source": [
    "# Installing GPyTorch using pip\n",
    "!pip install GPyTorch"
   ]
  },
  {
   "cell_type": "code",
   "execution_count": 5,
   "metadata": {
    "colab": {
     "base_uri": "https://localhost:8080/"
    },
    "id": "rBDowJ5fY435",
    "outputId": "ffbf4538-3ede-4f41-c262-9ef7e402d07b"
   },
   "outputs": [
    {
     "name": "stdout",
     "output_type": "stream",
     "text": [
      "C:\\Users\\KHU\\Documents\\GitHub\\EP_KHU\\Week1\n"
     ]
    }
   ],
   "source": [
    "import os\n",
    "print(os.getcwd())"
   ]
  },
  {
   "cell_type": "code",
   "execution_count": 6,
   "metadata": {
    "colab": {
     "base_uri": "https://localhost:8080/"
    },
    "id": "afExQjtZZPbO",
    "outputId": "7fcd7b57-71fa-44ff-ea0f-7e1f907f5fb5"
   },
   "outputs": [
    {
     "name": "stdout",
     "output_type": "stream",
     "text": [
      "[WinError 3] The system cannot find the path specified: '/content/sample_data'\n",
      "C:\\Users\\KHU\\Documents\\GitHub\\EP_KHU\\Week1\n"
     ]
    }
   ],
   "source": [
    "%cd /content/sample_data"
   ]
  },
  {
   "cell_type": "code",
   "execution_count": 7,
   "metadata": {
    "colab": {
     "base_uri": "https://localhost:8080/"
    },
    "id": "xLnFFs4fZbmN",
    "outputId": "2c25338f-bf89-4fdf-efc5-176038ff42c5"
   },
   "outputs": [
    {
     "name": "stdout",
     "output_type": "stream",
     "text": [
      "C:\\Users\\KHU\\Documents\\GitHub\\EP_KHU\\Week1\n"
     ]
    }
   ],
   "source": [
    "print(os.getcwd())"
   ]
  },
  {
   "cell_type": "code",
   "execution_count": 8,
   "metadata": {
    "colab": {
     "base_uri": "https://localhost:8080/"
    },
    "id": "i5feogWhaRFY",
    "outputId": "647fe4d6-0f32-4867-deed-e14d7055ee28"
   },
   "outputs": [
    {
     "name": "stdout",
     "output_type": "stream",
     "text": [
      "[WinError 2] The system cannot find the file specified: '/content'\n",
      "C:\\Users\\KHU\\Documents\\GitHub\\EP_KHU\\Week1\n"
     ]
    }
   ],
   "source": [
    "%cd /content"
   ]
  }
 ],
 "metadata": {
  "colab": {
   "include_colab_link": true,
   "provenance": []
  },
  "kernelspec": {
   "display_name": "Python 3 (ipykernel)",
   "language": "python",
   "name": "python3"
  },
  "language_info": {
   "codemirror_mode": {
    "name": "ipython",
    "version": 3
   },
   "file_extension": ".py",
   "mimetype": "text/x-python",
   "name": "python",
   "nbconvert_exporter": "python",
   "pygments_lexer": "ipython3",
   "version": "3.9.16"
  }
 },
 "nbformat": 4,
 "nbformat_minor": 1
}
