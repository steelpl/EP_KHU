{
  "cells": [
    {
      "cell_type": "markdown",
      "metadata": {
        "id": "view-in-github",
        "colab_type": "text"
      },
      "source": [
        "<a href=\"https://colab.research.google.com/github/steelpl/EP_KHU/blob/main/Week4/EP_Wk4b.ipynb\" target=\"_parent\"><img src=\"https://colab.research.google.com/assets/colab-badge.svg\" alt=\"Open In Colab\"/></a>"
      ]
    },
    {
      "cell_type": "markdown",
      "metadata": {
        "id": "nM6CWcVeYbz3"
      },
      "source": [
        "# Defining and calling Functions\n",
        "\n",
        ">In Python, functions are defined using the def keyword followed by the name of the function, a set of parentheses (), and a colon :. The body of the function is indented below the definition. \n"
      ]
    },
    {
      "cell_type": "code",
      "execution_count": null,
      "metadata": {
        "id": "KTGlASgYYrOY"
      },
      "outputs": [],
      "source": [
        "def say_hello():\n",
        "    print(\"Hello, World!\")"
      ]
    },
    {
      "cell_type": "code",
      "execution_count": null,
      "metadata": {
        "id": "c3BQMLPAY1aP"
      },
      "outputs": [],
      "source": [
        "say_hello()"
      ]
    },
    {
      "cell_type": "code",
      "source": [
        "# Effective range of variables defined in a function\n",
        "a = 1\n",
        "def vartest(a):\n",
        "    a = a + 1\n",
        "        \n",
        "print(vartest(a))\n",
        "print(a)"
      ],
      "metadata": {
        "id": "nbQCDKO3WMp2"
      },
      "execution_count": null,
      "outputs": []
    },
    {
      "cell_type": "markdown",
      "metadata": {
        "id": "HO53QTjqYmDQ"
      },
      "source": [
        "1. Function Arguments\n",
        "\n",
        ">Functions in Python can also accept input values, which are called arguments. Arguments are specified inside the parentheses () of the function definition, separated by commas ,. "
      ]
    },
    {
      "cell_type": "code",
      "execution_count": null,
      "metadata": {
        "id": "FiabUi13YCog"
      },
      "outputs": [],
      "source": [
        "def add_numbers(x, y):\n",
        "    return x + y"
      ]
    },
    {
      "cell_type": "code",
      "execution_count": null,
      "metadata": {
        "id": "lWlDQtnQZIU5"
      },
      "outputs": [],
      "source": [
        "add_numbers(1,2)"
      ]
    },
    {
      "cell_type": "markdown",
      "metadata": {
        "id": "kneFhQodZRU-"
      },
      "source": [
        "___\n",
        "2. Default Argument Values\n",
        "\n",
        ">Python functions can also have default argument values, which are used if an argument is not specified when the function is called. Default argument values are specified in the function definition by assigning a value to the argument. Here is an example of a function that has a default argument value:"
      ]
    },
    {
      "cell_type": "code",
      "execution_count": null,
      "metadata": {
        "id": "SDtXddYHZaEy"
      },
      "outputs": [],
      "source": [
        "def multiply_numbers(x, y=2):\n",
        "    return x * y"
      ]
    },
    {
      "cell_type": "code",
      "execution_count": null,
      "metadata": {
        "id": "T2jZQIy7Zd3H"
      },
      "outputs": [],
      "source": [
        "multiply_numbers(4)"
      ]
    },
    {
      "cell_type": "code",
      "execution_count": null,
      "metadata": {
        "id": "GbpW8p1wZhpi"
      },
      "outputs": [],
      "source": [
        "multiply_numbers(4,3)"
      ]
    },
    {
      "cell_type": "markdown",
      "metadata": {
        "id": "-mNLlTmueAZ8"
      },
      "source": [
        "___\n",
        ">- The **\\*args** syntax is used to pass a variable number of non-keyword arguments to a function"
      ]
    },
    {
      "cell_type": "code",
      "execution_count": null,
      "metadata": {
        "id": "K5k1CJDnbFFe"
      },
      "outputs": [],
      "source": [
        "# Summing a variable number of integers\n",
        "def sum_numbers(*args):\n",
        "    print(f\"type(args) = {type(args)}\")\n",
        "    total = 0\n",
        "    for num in args:\n",
        "        total += num\n",
        "    return total\n",
        "\n",
        "print(sum_numbers(1, 2, 3)) \n",
        "print(sum_numbers(1, 2, 3, 4, 5))"
      ]
    },
    {
      "cell_type": "code",
      "execution_count": null,
      "metadata": {
        "id": "ffg820yJeUC_"
      },
      "outputs": [],
      "source": [
        "# Concatenating a variable number of strings\n",
        "def join_strings(*args):    \n",
        "    return ''.join(args)\n",
        "\n",
        "print(join_strings('Hello', 'World'))\n",
        "print(join_strings('I', 'am', 'learning', 'Python'))"
      ]
    },
    {
      "cell_type": "code",
      "execution_count": null,
      "metadata": {
        "id": "1DyvGJprelk1"
      },
      "outputs": [],
      "source": [
        "# Finding the largest number in a variable number of arguments\n",
        "def find_largest(*args):    \n",
        "    largest = float('-inf')\n",
        "    for num in args:\n",
        "        if num > largest:\n",
        "            largest = num\n",
        "    return largest\n",
        "\n",
        "print(find_largest(1, 2, 3)) # Output: 3\n",
        "print(find_largest(10, 5, 20, 30)) # Output: 30"
      ]
    },
    {
      "cell_type": "code",
      "execution_count": null,
      "metadata": {
        "id": "N-_T0Qiteu0X"
      },
      "outputs": [],
      "source": [
        "# Combining a fixed number of required arguments with variable-length arguments\n",
        "def print_info(name, *args):    \n",
        "    print('Name:', name)\n",
        "    print('Additional Info:')\n",
        "    for arg in args:\n",
        "        print('-', arg)\n",
        "\n",
        "print_info('John', 'Age: 30', 'Occupation: Engineer', 'Hobbies: Reading, Cooking')"
      ]
    },
    {
      "cell_type": "markdown",
      "metadata": {
        "id": "IkmvHIsoeRme"
      },
      "source": [
        "___\n",
        ">- The **\\*\\*kwargs** syntax is used to pass a variable number of keyword arguments to a function"
      ]
    },
    {
      "cell_type": "code",
      "execution_count": null,
      "metadata": {
        "id": "AJ-Ls9dddr3c"
      },
      "outputs": [],
      "source": [
        "# Print the values of a dictionary passed as keyword arguments\n",
        "def print_kwargs(**kwargs):\n",
        "    print(f\"type(kwargs) = {type(kwargs)}\")\n",
        "    for key, value in kwargs.items():\n",
        "        print(f\"{key}: {value}\")\n",
        "\n",
        "print_kwargs(name=\"John\", age=30, occupation=\"Engineer\")"
      ]
    },
    {
      "cell_type": "code",
      "execution_count": null,
      "metadata": {
        "id": "HrPk9GZKfJPo"
      },
      "outputs": [],
      "source": [
        "# Combining fixed arguments with variable-length keyword arguments\n",
        "def print_info(name, **kwargs):\n",
        "    print('Name:', name)\n",
        "    print('Additional Info:')\n",
        "    for key, value in kwargs.items():\n",
        "        print(f\"- {key}: {value}\")\n",
        "\n",
        "print_info('John', age=30, occupation='Engineer', hobbies=['Reading', 'Cooking'])"
      ]
    },
    {
      "cell_type": "code",
      "execution_count": null,
      "metadata": {
        "id": "QfQTdOJEfVXK"
      },
      "outputs": [],
      "source": [
        "# Creating a dictionary from keyword arguments\n",
        "def create_dict(**kwargs):\n",
        "    return kwargs\n",
        "\n",
        "my_dict = create_dict(name=\"John\", age=30, occupation=\"Engineer\")\n",
        "print(my_dict)"
      ]
    },
    {
      "cell_type": "markdown",
      "source": [
        "3. lamda function\n",
        "> a lambda function is a small, anonymous function that is defined on the fly, usually to perform a single, specific task. It's also known as an anonymous function or a lambda expression.\n",
        "\n",
        "\n",
        "```\n",
        "lambda arguments: expression\n",
        "```\n",
        "\n"
      ],
      "metadata": {
        "id": "twMjBx85ggFX"
      }
    },
    {
      "cell_type": "code",
      "source": [
        "add = lambda x, y: x + y\n",
        "result = add(3, 4)\n",
        "print(result)"
      ],
      "metadata": {
        "id": "YkOaKSA_guMC"
      },
      "execution_count": null,
      "outputs": []
    },
    {
      "cell_type": "markdown",
      "metadata": {
        "id": "5MWqODwij4Ob"
      },
      "source": [
        "# Practice"
      ]
    },
    {
      "cell_type": "markdown",
      "metadata": {
        "id": "0Kzd0fZNkYnn"
      },
      "source": [
        "___\n",
        "1. Write a function that takes two numbers as arguments and returns their sum:"
      ]
    },
    {
      "cell_type": "code",
      "execution_count": null,
      "metadata": {
        "id": "1oeKFW9MkGJC"
      },
      "outputs": [],
      "source": [
        "def add_numbers(x, y):\n",
        "    return x + y\n",
        "\n",
        "result = add_numbers(2, 3)\n",
        "print(result)"
      ]
    },
    {
      "cell_type": "markdown",
      "metadata": {
        "id": "yI3IqecikjxQ"
      },
      "source": [
        "___\n",
        "2. Write a function that takes a list of numbers as an argument and returns the sum of those numbers:"
      ]
    },
    {
      "cell_type": "code",
      "execution_count": null,
      "metadata": {
        "id": "rKdsWGR_kVnf"
      },
      "outputs": [],
      "source": [
        "def sum_numbers(numbers):\n",
        "    total = 0\n",
        "    for num in numbers:\n",
        "        total += num\n",
        "    return total\n",
        "\n",
        "result = sum_numbers(range(1,11))\n",
        "print(result)"
      ]
    },
    {
      "cell_type": "markdown",
      "metadata": {
        "id": "u24nB-RuktXQ"
      },
      "source": [
        "___\n",
        "3. Write a function that takes a string as an argument and returns the reverse of that string:"
      ]
    },
    {
      "cell_type": "code",
      "execution_count": null,
      "metadata": {
        "id": "dcQ8iSLkkwel"
      },
      "outputs": [],
      "source": [
        "def reverse_string(string):\n",
        "    return string[::-1]\n",
        "\n",
        "result = reverse_string(\"Hello World\")\n",
        "print(result)"
      ]
    },
    {
      "cell_type": "markdown",
      "metadata": {
        "id": "DCqKQQ5hk1Ru"
      },
      "source": [
        "___\n",
        "4. Write a function that takes a list of strings as an argument and returns the list sorted in alphabetical order:"
      ]
    },
    {
      "cell_type": "code",
      "execution_count": null,
      "metadata": {
        "id": "8R56C65zk5VZ"
      },
      "outputs": [],
      "source": [
        "def sort_strings(strings):\n",
        "    return sorted(strings)\n",
        "\n",
        "result = sort_strings(\"Hello World\")\n",
        "print(result)\n",
        "print(f\"type(result) = {type(result)}\")"
      ]
    },
    {
      "cell_type": "markdown",
      "metadata": {
        "id": "4mD0j2L3k7Dm"
      },
      "source": [
        "___\n",
        "5. Write a function that takes a list of integers as an argument and returns a list of only the even numbers in the original list:"
      ]
    },
    {
      "cell_type": "code",
      "execution_count": null,
      "metadata": {
        "id": "LAJNf1dxk9yZ"
      },
      "outputs": [],
      "source": [
        "def even_numbers(numbers):\n",
        "    return [num for num in numbers if num % 2 == 0]\n",
        "\n",
        "result = even_numbers(range(1,11))\n",
        "print(result)"
      ]
    },
    {
      "cell_type": "markdown",
      "metadata": {
        "id": "JBpu9B6hlBlA"
      },
      "source": [
        "___\n",
        "6. Write a function that takes a list of integers as an argument and returns a list of only the prime numbers in the original list:"
      ]
    },
    {
      "cell_type": "code",
      "execution_count": null,
      "metadata": {
        "id": "9FOAzjiBlEby"
      },
      "outputs": [],
      "source": [
        "def prime_numbers(numbers):\n",
        "    primes = []\n",
        "    for num in numbers:\n",
        "        if num > 1:\n",
        "            for i in range(2, num):\n",
        "                if num % i == 0:\n",
        "                    break\n",
        "            else:\n",
        "                primes.append(num)\n",
        "    return primes\n",
        "\n",
        "result = prime_numbers(range(1,11))\n",
        "print(result)"
      ]
    },
    {
      "cell_type": "markdown",
      "source": [
        "7. lambda function"
      ],
      "metadata": {
        "id": "QKt4JeIJhdQr"
      }
    },
    {
      "cell_type": "code",
      "source": [
        "numbers = [1, 2, 3, 4, 5]\n",
        "squares = list(map(lambda x: x**2, numbers)) \n",
        "print(squares)"
      ],
      "metadata": {
        "id": "5Rbaz_gwhhmy"
      },
      "execution_count": null,
      "outputs": []
    },
    {
      "cell_type": "code",
      "source": [
        "numbers = [1, 2, 3, 4, 5]\n",
        "even_numbers = list(filter(lambda x: x % 2 == 0, numbers))\n",
        "print(even_numbers)"
      ],
      "metadata": {
        "id": "K8ab_8o7hwJF"
      },
      "execution_count": null,
      "outputs": []
    },
    {
      "cell_type": "code",
      "source": [
        "students = [('Alice', 25), ('Bob', 18), ('Charlie', 21)]\n",
        "students_sorted = sorted(students, key=lambda x: x[1])\n",
        "print(students_sorted)"
      ],
      "metadata": {
        "id": "mFM1fpW5hwpe"
      },
      "execution_count": null,
      "outputs": []
    }
  ],
  "metadata": {
    "colab": {
      "provenance": [],
      "include_colab_link": true
    },
    "kernelspec": {
      "display_name": "Python 3 (ipykernel)",
      "language": "python",
      "name": "python3"
    },
    "language_info": {
      "codemirror_mode": {
        "name": "ipython",
        "version": 3
      },
      "file_extension": ".py",
      "mimetype": "text/x-python",
      "name": "python",
      "nbconvert_exporter": "python",
      "pygments_lexer": "ipython3",
      "version": "3.9.13"
    }
  },
  "nbformat": 4,
  "nbformat_minor": 0
}